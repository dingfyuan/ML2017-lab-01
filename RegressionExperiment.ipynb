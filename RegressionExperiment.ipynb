{
 "cells": [
  {
   "cell_type": "code",
   "execution_count": 1,
   "metadata": {
    "collapsed": true
   },
   "outputs": [],
   "source": [
    "import numpy as np\n",
    "import jupyter\n",
    "from sklearn.datasets import load_svmlight_file\n",
    "from sklearn.model_selection import train_test_split\n",
    "from matplotlib import pyplot"
   ]
  },
  {
   "cell_type": "code",
   "execution_count": 2,
   "metadata": {},
   "outputs": [],
   "source": [
    "# compute the loss\n",
    "def loss(w, x, y):\n",
    "    y_predict = np.dot(x,w)\n",
    "    loss=np.power((y_predict-y),2).sum()/2\n",
    "    return loss\n"
   ]
  },
  {
   "cell_type": "code",
   "execution_count": 3,
   "metadata": {},
   "outputs": [],
   "source": [
    "# compute the gradient\n",
    "def gradient(w, x, y):\n",
    "    temp = np.subtract(np.dot(x, w), y)\n",
    "    grad = np.dot(x.T, temp)\n",
    "    grad /= y.shape[0]\n",
    "    return grad"
   ]
  },
  {
   "cell_type": "code",
   "execution_count": 4,
   "metadata": {},
   "outputs": [
    {
     "data": {
      "image/png": "[encoded data removed]",
      "text/plain": [
       "<matplotlib.figure.Figure at 0x5787860>"
      ]
     },
     "metadata": {},
     "output_type": "display_data"
    }
   ],
   "source": [
    "# Load the experiment data\n",
    "x, y = load_svmlight_file(\"housing_scale\")\n",
    "x_train, x_test, y_train, y_test = train_test_split(x, y, test_size = 0.3)\n",
    "x_train, x_test = x_train.toarray(), x_test.toarray()\n",
    "y_train, y_test = y_train.reshape((-1,1)), y_test.reshape((-1,1))\n",
    "\n",
    "# Initialize parameter  \n",
    "# learning rate\n",
    "alpha = 0.0001\n",
    "#iteration\n",
    "iteration=5000\n",
    "feature_num = x_train.shape[1]\n",
    "x_train = np.c_[x_train, np.ones((x_train.shape[0], 1))]\n",
    "x_test = np.c_[x_test, np.ones((x_test.shape[0], 1))]\n",
    "#weight\n",
    "w = np.zeros((feature_num + 1, 1))\n",
    "\n",
    "loss_train = [] # train loss\n",
    "loss_validation = [] # validation loss\n",
    "for i in range(iteration):\n",
    "    grad = gradient(w, x_train, y_train)\n",
    "    w -= alpha * grad\n",
    "    loss_train.append(loss(w, x_train, y_train))\n",
    "    loss_validation.append(loss(w, x_test, y_test))\n",
    "\n",
    "pyplot.title('Loss curve')\n",
    "pyplot.xlabel('Rounds')\n",
    "pyplot.ylabel('Loss')\n",
    "pyplot.plot(loss_train, color=\"blue\", label=\"train loss\")\n",
    "pyplot.plot(loss_validation, color=\"red\", label=\"validation loss\")\n",
    "pyplot.legend(loc='upper right')\n",
    "pyplot.show()\n"
   ]
  },
  {
   "cell_type": "code",
   "execution_count": null,
   "metadata": {},
   "outputs": [],
   "source": []
  }
 ],
 "metadata": {
  "kernelspec": {
   "display_name": "Python 3",
   "language": "python",
   "name": "python3"
  },
  "language_info": {
   "codemirror_mode": {
    "name": "ipython",
    "version": 3
   },
   "file_extension": ".py",
   "mimetype": "text/x-python",
   "name": "python",
   "nbconvert_exporter": "python",
   "pygments_lexer": "ipython3",
   "version": "3.6.3"
  }
 },
 "nbformat": 4,
 "nbformat_minor": 2
}
