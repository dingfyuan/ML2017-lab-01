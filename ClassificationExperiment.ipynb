{
 "cells": [
  {
   "cell_type": "code",
   "execution_count": 1,
   "metadata": {
    "collapsed": true
   },
   "outputs": [],
   "source": [
    "import numpy as np\n",
    "import jupyter\n",
    "from sklearn.datasets import load_svmlight_file\n",
    "from sklearn.model_selection import train_test_split\n",
    "from matplotlib import pyplot "
   ]
  },
  {
   "cell_type": "code",
   "execution_count": 2,
   "metadata": {},
   "outputs": [],
   "source": [
    "#compute the loss\n",
    "def hingeLoss(w, x, y):\n",
    "    loss_sum = 0\n",
    "    for i in range(len(y)):  \n",
    "        temp = 0\n",
    "        for var_x, var_w in zip(x[i], w): \n",
    "            temp += var_w * var_x\n",
    "        tmp = y[i][0] * temp\n",
    "        if tmp < 1:\n",
    "            loss_sum += 1 - tmp\n",
    "    loss_sum *= c\n",
    "    W = 0 \n",
    "    for var in w:\n",
    "        W += var**2\n",
    "    loss_sum += W/2\n",
    "    return loss_sum/len(y)"
   ]
  },
  {
   "cell_type": "code",
   "execution_count": 3,
   "metadata": {},
   "outputs": [],
   "source": [
    "#compute the gradient\n",
    "def gradient(w, x, y):\n",
    "    grad = []\n",
    "    gradient_cmp=[]\n",
    "    for i in range(len(y)):  \n",
    "        temp = 0\n",
    "        tmp = []\n",
    "        for var_x, var_w in zip(x[i], w):  \n",
    "            temp += var_w * var_x\n",
    "            tmp.append(y[i][0] * var_x * c)\n",
    "\n",
    "        if y[i][0] * temp <= 1:\n",
    "            if len(grad):\n",
    "                for j in range(len(tmp)):\n",
    "                    grad[j]+=tmp[j]\n",
    "            else:\n",
    "                grad = tmp\n",
    "    for gradi, wi in zip(grad, w):\n",
    "        gradient_cmp.append(-gradi/len(y) + wi)\n",
    "\n",
    "    return gradient_cmp\n",
    "\n",
    "\n"
   ]
  },
  {
   "cell_type": "code",
   "execution_count": 5,
   "metadata": {},
   "outputs": [
    {
     "data": {
      "image/png": "[encoded data removed]",
      "text/plain": [
       "<matplotlib.figure.Figure at 0xa0b0358>"
      ]
     },
     "metadata": {},
     "output_type": "display_data"
    }
   ],
   "source": [
    "# Load the experiment data\n",
    "x, y = load_svmlight_file(\"australian_scale\")\n",
    "x_train, x_test, y_train, y_test = train_test_split(x, y, test_size = 0.3)\n",
    "x_train, x_test = x_train.toarray(), x_test.toarray()\n",
    "y_train, y_test = y_train.reshape((-1,1)), y_test.reshape((-1,1))\n",
    "\n",
    "# Initialize parameter  \n",
    "# learning rate\n",
    "alpha = 0.0001\n",
    "#iteration\n",
    "iteration=5000\n",
    "#c\n",
    "c=10\n",
    "#weight\n",
    "feature_num = x_train.shape[1]\n",
    "w =[]   \n",
    "for i in range(feature_num + 1):\n",
    "        w.append(0)\n",
    "x_train = np.c_[x_train, np.ones((x_train.shape[0], 1))].tolist()\n",
    "y_train = y_train.tolist()\n",
    "x_test = np.c_[x_test, np.ones((x_test.shape[0], 1))].tolist()\n",
    "y_test = y_test.tolist()\n",
    "\n",
    "\n",
    "loss_train = [] # train loss\n",
    "loss_validation = [] # validation loss\n",
    "for i in range(iteration):\n",
    "    grad = gradient(w, x_train, y_train)\n",
    "    for j in range(len(w)):\n",
    "        w[j] -= alpha * grad[j]\n",
    "    loss_train.append(hingeLoss(w, x_train, y_train))\n",
    "    loss_validation.append(hingeLoss(w, x_test, y_test))\n",
    "\n",
    "pyplot.title('Loss curve')\n",
    "pyplot.xlabel('Rounds')\n",
    "pyplot.ylabel('Loss')\n",
    "pyplot.plot(loss_train, color=\"blue\", label=\"train loss\")\n",
    "pyplot.plot(loss_validation, color=\"red\", label=\"validation loss\")\n",
    "pyplot.legend(loc='upper right')\n",
    "pyplot.show()"
   ]
  },
  {
   "cell_type": "code",
   "execution_count": null,
   "metadata": {},
   "outputs": [],
   "source": []
  },
  {
   "cell_type": "code",
   "execution_count": null,
   "metadata": {},
   "outputs": [],
   "source": []
  }
 ],
 "metadata": {
  "kernelspec": {
   "display_name": "Python 3",
   "language": "python",
   "name": "python3"
  },
  "language_info": {
   "codemirror_mode": {
    "name": "ipython",
    "version": 3
   },
   "file_extension": ".py",
   "mimetype": "text/x-python",
   "name": "python",
   "nbconvert_exporter": "python",
   "pygments_lexer": "ipython3",
   "version": "3.6.3"
  }
 },
 "nbformat": 4,
 "nbformat_minor": 2
}
